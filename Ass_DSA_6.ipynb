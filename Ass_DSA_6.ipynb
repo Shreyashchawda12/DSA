{
 "cells": [
  {
   "cell_type": "code",
   "execution_count": 25,
   "id": "b964ec07",
   "metadata": {},
   "outputs": [
    {
     "name": "stdout",
     "output_type": "stream",
     "text": [
      "[0, 4, 1, 3, 2]\n"
     ]
    }
   ],
   "source": [
    "#1\n",
    "def findPermutation(s: str) -> List[int]:\n",
    "    perm = []\n",
    "    n = len(s)\n",
    "    low = 0\n",
    "\n",
    "    for ch in s:\n",
    "        if ch == 'I':\n",
    "            perm.append(low)\n",
    "            low += 1\n",
    "        elif ch == 'D':\n",
    "            perm.append(n)\n",
    "            n -= 1\n",
    "\n",
    "    perm.append(low)\n",
    "\n",
    "    return perm\n",
    "s = \"IDID\"\n",
    "result = findPermutation(s)\n",
    "print(result)\n"
   ]
  },
  {
   "cell_type": "code",
   "execution_count": 26,
   "id": "9531fdf6",
   "metadata": {},
   "outputs": [
    {
     "name": "stdout",
     "output_type": "stream",
     "text": [
      "True\n"
     ]
    }
   ],
   "source": [
    "#2\n",
    "def searchMatrix(matrix, target):\n",
    "    m, n = len(matrix), len(matrix[0])\n",
    "    left, right = 0, m * n - 1\n",
    "\n",
    "    while left <= right:\n",
    "        mid = (left + right) // 2\n",
    "        row = mid // n\n",
    "        col = mid % n\n",
    "\n",
    "        if matrix[row][col] == target:\n",
    "            return True\n",
    "        elif matrix[row][col] > target:\n",
    "            right = mid - 1\n",
    "        else:\n",
    "            left = mid + 1\n",
    "\n",
    "    return False\n",
    "matrix = [\n",
    "    [1, 3, 5, 7],\n",
    "    [10, 11, 16, 20],\n",
    "    [23, 30, 34, 60]\n",
    "]\n",
    "target = 3\n",
    "result = searchMatrix(matrix, target)\n",
    "print(result)\n"
   ]
  },
  {
   "cell_type": "code",
   "execution_count": 27,
   "id": "60cafd0f",
   "metadata": {},
   "outputs": [
    {
     "name": "stdout",
     "output_type": "stream",
     "text": [
      "True\n"
     ]
    }
   ],
   "source": [
    "#3\n",
    "from typing import List\n",
    "\n",
    "def validMountainArray(arr: List[int]) -> bool:\n",
    "    n = len(arr)\n",
    "    if n < 3:\n",
    "        return False\n",
    "\n",
    "    i = 0\n",
    "    while i < n - 1 and arr[i] < arr[i+1]:\n",
    "        i += 1\n",
    "\n",
    "    if i == 0 or i == n - 1:\n",
    "        return False\n",
    "\n",
    "    while i < n - 1 and arr[i] > arr[i+1]:\n",
    "        i += 1\n",
    "\n",
    "    return i == n - 1\n",
    "arr = [0, 3, 2, 1]\n",
    "result = validMountainArray(arr)\n",
    "print(result)\n"
   ]
  },
  {
   "cell_type": "code",
   "execution_count": 28,
   "id": "430f6282",
   "metadata": {},
   "outputs": [
    {
     "name": "stdout",
     "output_type": "stream",
     "text": [
      "2\n"
     ]
    }
   ],
   "source": [
    "#4\n",
    "from typing import List\n",
    "\n",
    "def findMaxLength(nums: List[int]) -> int:\n",
    "    max_length = 0\n",
    "    cum_sum = 0\n",
    "    sum_indices = {0: -1}\n",
    "\n",
    "    for i in range(len(nums)):\n",
    "        if nums[i] == 0:\n",
    "            cum_sum += 1\n",
    "        else:\n",
    "            cum_sum -= 1\n",
    "\n",
    "        if cum_sum in sum_indices:\n",
    "            max_length = max(max_length, i - sum_indices[cum_sum])\n",
    "        else:\n",
    "            sum_indices[cum_sum] = i\n",
    "\n",
    "    return max_length\n",
    "nums = [0, 1]\n",
    "result = findMaxLength(nums)\n",
    "print(result)\n"
   ]
  },
  {
   "cell_type": "code",
   "execution_count": 29,
   "id": "2d179469",
   "metadata": {},
   "outputs": [
    {
     "name": "stdout",
     "output_type": "stream",
     "text": [
      "40\n"
     ]
    }
   ],
   "source": [
    "#5\n",
    "from typing import List\n",
    "\n",
    "def minProductSum(nums1: List[int], nums2: List[int]) -> int:\n",
    "    nums1.sort()\n",
    "    nums2.sort()\n",
    "    \n",
    "    min_product_sum = 0\n",
    "    length = len(nums1)\n",
    "    \n",
    "    for i in range(length):\n",
    "        min_product_sum += nums1[i] * nums2[length - i - 1]\n",
    "    \n",
    "    return min_product_sum\n",
    "nums1 = [5, 3, 4, 2]\n",
    "nums2 = [4, 2, 2, 5]\n",
    "result = minProductSum(nums1, nums2)\n",
    "print(result)\n"
   ]
  },
  {
   "cell_type": "code",
   "execution_count": 30,
   "id": "a20404cd",
   "metadata": {},
   "outputs": [
    {
     "name": "stdout",
     "output_type": "stream",
     "text": [
      "[]\n"
     ]
    }
   ],
   "source": [
    "#6\n",
    "from typing import List\n",
    "\n",
    "def findOriginalArray(changed: List[int]) -> List[int]:\n",
    "    count = {}\n",
    "\n",
    "    for num in changed:\n",
    "        if num not in count:\n",
    "            count[num] = 0\n",
    "        count[num] += 1\n",
    "\n",
    "    original = []\n",
    "\n",
    "    for num in changed:\n",
    "        if count.get(num, 0) == 0:\n",
    "            continue\n",
    "        if count.get(num // 2, 0) == 0:\n",
    "            return []\n",
    "        count[num // 2] -= 1\n",
    "        count[num] -= 1\n",
    "        original.append(num // 2)\n",
    "\n",
    "    return original\n",
    "changed = [1, 3, 4, 2, 6, 8]\n",
    "result = findOriginalArray(changed)\n",
    "print(result)\n"
   ]
  },
  {
   "cell_type": "code",
   "execution_count": 31,
   "id": "2150a042",
   "metadata": {},
   "outputs": [
    {
     "name": "stdout",
     "output_type": "stream",
     "text": [
      "[[1, 2, 3], [8, 9, 4], [7, 6, 5]]\n"
     ]
    }
   ],
   "source": [
    "#7\n",
    "def generateMatrix(n: int) -> List[List[int]]:\n",
    "    result = [[0] * n for _ in range(n)]\n",
    "    row_start, row_end = 0, n - 1\n",
    "    col_start, col_end = 0, n - 1\n",
    "    num = 1\n",
    "\n",
    "    while num <= n * n:\n",
    "        for j in range(col_start, col_end + 1):\n",
    "            result[row_start][j] = num\n",
    "            num += 1\n",
    "        row_start += 1\n",
    "\n",
    "        for i in range(row_start, row_end + 1):\n",
    "            result[i][col_end] = num\n",
    "            num += 1\n",
    "        col_end -= 1\n",
    "\n",
    "        for j in range(col_end, col_start - 1, -1):\n",
    "            result[row_end][j] = num\n",
    "            num += 1\n",
    "        row_end -= 1\n",
    "\n",
    "        for i in range(row_end, row_start - 1, -1):\n",
    "            result[i][col_start] = num\n",
    "            num += 1\n",
    "        col_start += 1\n",
    "\n",
    "    return result\n",
    "n = 3\n",
    "result = generateMatrix(n)\n",
    "print(result)\n"
   ]
  },
  {
   "cell_type": "code",
   "execution_count": 32,
   "id": "4efbb543",
   "metadata": {},
   "outputs": [
    {
     "name": "stdout",
     "output_type": "stream",
     "text": [
      "[[7, 0, 0], [-7, 0, 3]]\n"
     ]
    }
   ],
   "source": [
    "#8\n",
    "def multiply(mat1, mat2):\n",
    "    m, k, n = len(mat1), len(mat1[0]), len(mat2[0])\n",
    "    result = [[0] * n for _ in range(m)]\n",
    "\n",
    "    for i in range(m):\n",
    "        for j in range(n):\n",
    "            for p in range(k):\n",
    "                if mat1[i][p] != 0 and mat2[p][j] != 0:\n",
    "                    result[i][j] += mat1[i][p] * mat2[p][j]\n",
    "\n",
    "    return result\n",
    "mat1 = [[1, 0, 0], [-1, 0, 3]]\n",
    "mat2 = [[7, 0, 0], [0, 0, 0], [0, 0, 1]]\n",
    "result = multiply(mat1, mat2)\n",
    "print(result)\n"
   ]
  },
  {
   "cell_type": "code",
   "execution_count": null,
   "id": "53b101b1",
   "metadata": {},
   "outputs": [],
   "source": []
  }
 ],
 "metadata": {
  "kernelspec": {
   "display_name": "Python 3 (ipykernel)",
   "language": "python",
   "name": "python3"
  },
  "language_info": {
   "codemirror_mode": {
    "name": "ipython",
    "version": 3
   },
   "file_extension": ".py",
   "mimetype": "text/x-python",
   "name": "python",
   "nbconvert_exporter": "python",
   "pygments_lexer": "ipython3",
   "version": "3.10.9"
  }
 },
 "nbformat": 4,
 "nbformat_minor": 5
}
