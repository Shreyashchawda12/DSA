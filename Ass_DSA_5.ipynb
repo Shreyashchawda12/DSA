{
 "cells": [
  {
   "cell_type": "code",
   "execution_count": 16,
   "id": "87b33e79",
   "metadata": {},
   "outputs": [
    {
     "name": "stdout",
     "output_type": "stream",
     "text": [
      "[[1, 2, 3], [4, 5, 6]]\n"
     ]
    }
   ],
   "source": [
    "#1\n",
    "from typing import List\n",
    "\n",
    "def convertTo2DArray(original: List[int], m: int, n: int) -> List[List[int]]:\n",
    "    if len(original) != m * n:\n",
    "        return []\n",
    "    \n",
    "    result = []\n",
    "    for i in range(m):\n",
    "        segment = original[i * n: (i+1) * n]\n",
    "        result.append(segment)\n",
    "    \n",
    "    return result\n",
    "original = [1, 2, 3, 4, 5, 6]\n",
    "m = 2\n",
    "n = 3\n",
    "result = convertTo2DArray(original, m, n)\n",
    "print(result)\n"
   ]
  },
  {
   "cell_type": "code",
   "execution_count": 17,
   "id": "a19caaa1",
   "metadata": {},
   "outputs": [
    {
     "name": "stdout",
     "output_type": "stream",
     "text": [
      "4\n"
     ]
    }
   ],
   "source": [
    "#2\n",
    "def arrangeCoins(n: int) -> int:\n",
    "    k = 0\n",
    "    total = 0\n",
    "    \n",
    "    while total <= n:\n",
    "        k += 1\n",
    "        total += k\n",
    "    \n",
    "    return k - 1\n",
    "n = 10\n",
    "result = arrangeCoins(n)\n",
    "print(result)\n"
   ]
  },
  {
   "cell_type": "code",
   "execution_count": 18,
   "id": "dbac366a",
   "metadata": {},
   "outputs": [
    {
     "name": "stdout",
     "output_type": "stream",
     "text": [
      "4\n"
     ]
    }
   ],
   "source": [
    "#3\n",
    "def arrangeCoins(n: int) -> int:\n",
    "    k = 0\n",
    "    total = 0\n",
    "    \n",
    "    while total <= n:\n",
    "        k += 1\n",
    "        total += k\n",
    "    \n",
    "    return k - 1\n",
    "n = 10\n",
    "result = arrangeCoins(n)\n",
    "print(result)\n"
   ]
  },
  {
   "cell_type": "code",
   "execution_count": 19,
   "id": "e23c6761",
   "metadata": {},
   "outputs": [
    {
     "name": "stdout",
     "output_type": "stream",
     "text": [
      "[[1, 3], [4, 6]]\n"
     ]
    }
   ],
   "source": [
    "#4\n",
    "from typing import List\n",
    "\n",
    "def findDisappearedNumbers(nums1: List[int], nums2: List[int]) -> List[List[int]]:\n",
    "    set_nums1 = set(nums1)\n",
    "    set_nums2 = set(nums2)\n",
    "\n",
    "    diff_nums1 = list(set_nums1 - set_nums2)\n",
    "    diff_nums2 = list(set_nums2 - set_nums1)\n",
    "\n",
    "    return [diff_nums1, diff_nums2]\n",
    "nums1 = [1, 2, 3]\n",
    "nums2 = [2, 4, 6]\n",
    "result = findDisappearedNumbers(nums1, nums2)\n",
    "print(result)\n"
   ]
  },
  {
   "cell_type": "code",
   "execution_count": 20,
   "id": "0504396a",
   "metadata": {},
   "outputs": [
    {
     "name": "stdout",
     "output_type": "stream",
     "text": [
      "2\n"
     ]
    }
   ],
   "source": [
    "#5\n",
    "from typing import List\n",
    "\n",
    "def findTheDistanceValue(arr1: List[int], arr2: List[int], d: int) -> int:\n",
    "    distance = 0\n",
    "\n",
    "    for num in arr1:\n",
    "        found = False\n",
    "        for num2 in arr2:\n",
    "            if abs(num - num2) <= d:\n",
    "                found = True\n",
    "                break\n",
    "        if not found:\n",
    "            distance += 1\n",
    "\n",
    "    return distance\n",
    "arr1 = [4, 5, 8]\n",
    "arr2 = [10, 9, 1, 8]\n",
    "d = 2\n",
    "result = findTheDistanceValue(arr1, arr2, d)\n",
    "print(result)\n"
   ]
  },
  {
   "cell_type": "code",
   "execution_count": 22,
   "id": "a1abc8bc",
   "metadata": {},
   "outputs": [
    {
     "name": "stdout",
     "output_type": "stream",
     "text": [
      "[2, 3]\n"
     ]
    }
   ],
   "source": [
    "#6\n",
    "from typing import List\n",
    "\n",
    "def findDuplicates(nums: List[int]) -> List[int]:\n",
    "    result = []\n",
    "\n",
    "    for num in nums:\n",
    "        idx = abs(num) - 1\n",
    "        if nums[idx] > 0:\n",
    "            nums[idx] *= -1\n",
    "        else:\n",
    "            result.append(abs(num))\n",
    "\n",
    "    return result\n",
    "nums = [4, 3, 2, 7, 8, 2, 3, 1]\n",
    "result = findDuplicates(nums)\n",
    "print(result)\n"
   ]
  },
  {
   "cell_type": "code",
   "execution_count": 23,
   "id": "03835564",
   "metadata": {},
   "outputs": [
    {
     "name": "stdout",
     "output_type": "stream",
     "text": [
      "1\n"
     ]
    }
   ],
   "source": [
    "#7\n",
    "from typing import List\n",
    "\n",
    "def findMin(nums: List[int]) -> int:\n",
    "    left = 0\n",
    "    right = len(nums) - 1\n",
    "\n",
    "    while left < right:\n",
    "        mid = left + (right - left) // 2\n",
    "\n",
    "        if nums[mid] > nums[right]:\n",
    "            left = mid + 1\n",
    "        else:\n",
    "            right = mid\n",
    "\n",
    "    return nums[left]\n",
    "nums = [3, 4, 5, 1, 2]\n",
    "result = findMin(nums)\n",
    "print(result)\n"
   ]
  },
  {
   "cell_type": "code",
   "execution_count": 24,
   "id": "1b94fded",
   "metadata": {},
   "outputs": [
    {
     "name": "stdout",
     "output_type": "stream",
     "text": [
      "[1, 3, 4]\n"
     ]
    }
   ],
   "source": [
    "#8\n",
    "from typing import List\n",
    "\n",
    "def findOriginalArray(changed: List[int]) -> List[int]:\n",
    "    count = {}\n",
    "\n",
    "    for num in changed:\n",
    "        if num not in count:\n",
    "            count[num] = 0\n",
    "        count[num] += 1\n",
    "\n",
    "    original = []\n",
    "\n",
    "    for num in changed:\n",
    "        if count.get(num, 0) == 0:\n",
    "            continue\n",
    "        if count.get(2 * num, 0) == 0:\n",
    "            return []\n",
    "        count[2 * num] -= 1\n",
    "        count[num] -= 1\n",
    "        original.append(num)\n",
    "\n",
    "    return original\n",
    "changed = [1, 3, 4, 2, 6, 8]\n",
    "result = findOriginalArray(changed)\n",
    "print(result)\n"
   ]
  },
  {
   "cell_type": "code",
   "execution_count": null,
   "id": "ed4bb4a3",
   "metadata": {},
   "outputs": [],
   "source": []
  }
 ],
 "metadata": {
  "kernelspec": {
   "display_name": "Python 3 (ipykernel)",
   "language": "python",
   "name": "python3"
  },
  "language_info": {
   "codemirror_mode": {
    "name": "ipython",
    "version": 3
   },
   "file_extension": ".py",
   "mimetype": "text/x-python",
   "name": "python",
   "nbconvert_exporter": "python",
   "pygments_lexer": "ipython3",
   "version": "3.10.9"
  }
 },
 "nbformat": 4,
 "nbformat_minor": 5
}
