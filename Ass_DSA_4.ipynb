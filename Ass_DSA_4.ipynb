{
 "cells": [
  {
   "cell_type": "code",
   "execution_count": 1,
   "id": "4894da99",
   "metadata": {},
   "outputs": [
    {
     "name": "stdout",
     "output_type": "stream",
     "text": [
      "[1, 5]\n"
     ]
    }
   ],
   "source": [
    "#1\n",
    "def common_elements(arr1, arr2, arr3):\n",
    "  \"\"\"\n",
    "  Returns a sorted array of the integers that appeared in all three arrays.\n",
    "\n",
    "  Args:\n",
    "    arr1: The first array.\n",
    "    arr2: The second array.\n",
    "    arr3: The third array.\n",
    "\n",
    "  Returns:\n",
    "    A sorted array of the common elements.\n",
    "  \"\"\"\n",
    "\n",
    "  i = j = k = 0\n",
    "  common = []\n",
    "\n",
    "  while i < len(arr1) and j < len(arr2) and k < len(arr3):\n",
    "    if arr1[i] == arr2[j] == arr3[k]:\n",
    "      common.append(arr1[i])\n",
    "      i += 1\n",
    "      j += 1\n",
    "      k += 1\n",
    "    elif arr1[i] < arr2[j]:\n",
    "      i += 1\n",
    "    elif arr2[j] < arr3[k]:\n",
    "      j += 1\n",
    "    else:\n",
    "      k += 1\n",
    "\n",
    "  return common\n",
    "\n",
    "\n",
    "if __name__ == \"__main__\":\n",
    "  arr1 = [1, 2, 3, 4, 5]\n",
    "  arr2 = [1, 2, 5, 7, 9]\n",
    "  arr3 = [1, 3, 4, 5, 8]\n",
    "\n",
    "  common = common_elements(arr1, arr2, arr3)\n",
    "\n",
    "  print(common)\n"
   ]
  },
  {
   "cell_type": "code",
   "execution_count": 2,
   "id": "884df89d",
   "metadata": {},
   "outputs": [
    {
     "name": "stdout",
     "output_type": "stream",
     "text": [
      "[[1, 2, 3], [4, 6]]\n"
     ]
    }
   ],
   "source": [
    "#2\n",
    "def find_distinct_numbers(nums1, nums2):\n",
    "  \"\"\"\n",
    "  Returns a list of two lists, where the first list contains all distinct integers in nums1 that are not present in nums2, and the second list contains all distinct integers in nums2 that are not present in nums1.\n",
    "\n",
    "  Args:\n",
    "    nums1: The first array.\n",
    "    nums2: The second array.\n",
    "\n",
    "  Returns:\n",
    "    A list of two lists.\n",
    "  \"\"\"\n",
    "\n",
    "  seen = set()\n",
    "  result = [[], []]\n",
    "\n",
    "  for num in nums1:\n",
    "    if num not in seen:\n",
    "      result[0].append(num)\n",
    "      seen.add(num)\n",
    "\n",
    "  for num in nums2:\n",
    "    if num not in seen:\n",
    "      result[1].append(num)\n",
    "      seen.add(num)\n",
    "\n",
    "  return result\n",
    "\n",
    "\n",
    "if __name__ == \"__main__\":\n",
    "  nums1 = [1, 2, 3]\n",
    "  nums2 = [2, 4, 6]\n",
    "\n",
    "  result = find_distinct_numbers(nums1, nums2)\n",
    "\n",
    "  print(result)\n"
   ]
  },
  {
   "cell_type": "code",
   "execution_count": 3,
   "id": "0cf9dcea",
   "metadata": {},
   "outputs": [
    {
     "name": "stdout",
     "output_type": "stream",
     "text": [
      "[[1, 4, 7], [2, 5, 8], [3, 6, 9]]\n"
     ]
    }
   ],
   "source": [
    "#3\n",
    "def transpose(matrix):\n",
    "  \"\"\"\n",
    "  Returns the transpose of the given matrix.\n",
    "\n",
    "  Args:\n",
    "    matrix: The matrix to be transposed.\n",
    "\n",
    "  Returns:\n",
    "    The transpose of the matrix.\n",
    "  \"\"\"\n",
    "\n",
    "  transposed = []\n",
    "\n",
    "  for i in range(len(matrix[0])):\n",
    "    row = []\n",
    "    for j in range(len(matrix)):\n",
    "      row.append(matrix[j][i])\n",
    "    transposed.append(row)\n",
    "\n",
    "  return transposed\n",
    "\n",
    "\n",
    "if __name__ == \"__main__\":\n",
    "  matrix = [[1, 2, 3], [4, 5, 6], [7, 8, 9]]\n",
    "\n",
    "  transposed = transpose(matrix)\n",
    "\n",
    "  print(transposed)\n"
   ]
  },
  {
   "cell_type": "code",
   "execution_count": 6,
   "id": "bbb7b854",
   "metadata": {},
   "outputs": [
    {
     "name": "stdout",
     "output_type": "stream",
     "text": [
      "4\n"
     ]
    }
   ],
   "source": [
    "#4\n",
    "def max_pair_sum(nums):\n",
    "  \"\"\"\n",
    "  Returns the maximum sum of min(ai, bi) for all i, where ai and bi are the elements in the ith pair.\n",
    "\n",
    "  Args:\n",
    "    nums: The array of integers.\n",
    "\n",
    "  Returns:\n",
    "    The maximum sum.\n",
    "  \"\"\"\n",
    "\n",
    "  nums.sort()\n",
    "\n",
    "  max_sum = 0\n",
    "  for i in range(len(nums) // 2):\n",
    "    max_sum += min(nums[2 * i], nums[2 * i + 1])\n",
    "\n",
    "  return max_sum\n",
    "\n",
    "\n",
    "if __name__ == \"__main__\":\n",
    "  nums = [1, 4, 3, 2, 5]\n",
    "\n",
    "  max_sum = max_pair_sum(nums)\n",
    "\n",
    "  print(max_sum)\n"
   ]
  },
  {
   "cell_type": "code",
   "execution_count": 9,
   "id": "c559eb61",
   "metadata": {},
   "outputs": [
    {
     "name": "stdout",
     "output_type": "stream",
     "text": [
      "3\n"
     ]
    }
   ],
   "source": [
    "#5\n",
    "def staircase_rows(n):\n",
    "  \"\"\"\n",
    "  Returns the number of complete rows of the staircase you will build.\n",
    "\n",
    "  Args:\n",
    "    n: The number of coins.\n",
    "\n",
    "  Returns:\n",
    "    The number of complete rows.\n",
    "  \"\"\"\n",
    "\n",
    "  rows = 0\n",
    "  current_row = 1\n",
    "\n",
    "  while current_row <= n:\n",
    "    if current_row <= n:\n",
    "      rows += 1\n",
    "    current_row += current_row\n",
    "\n",
    "  return rows\n",
    "\n",
    "\n",
    "if __name__ == \"__main__\":\n",
    "  n = 5\n",
    "\n",
    "  rows = staircase_rows(n)\n",
    "\n",
    "  print(rows)\n",
    "\n"
   ]
  },
  {
   "cell_type": "code",
   "execution_count": 10,
   "id": "6ff64639",
   "metadata": {},
   "outputs": [
    {
     "name": "stdout",
     "output_type": "stream",
     "text": [
      "[0, 1, 9, 16, 100]\n"
     ]
    }
   ],
   "source": [
    "#6\n",
    "def squares_of_sorted_array(nums):\n",
    "  \"\"\"\n",
    "  Returns an array of the squares of each number in nums sorted in non-decreasing order.\n",
    "\n",
    "  Args:\n",
    "    nums: The array of integers.\n",
    "\n",
    "  Returns:\n",
    "    The array of squares.\n",
    "  \"\"\"\n",
    "\n",
    "  squares = []\n",
    "  for num in nums:\n",
    "    squares.append(num * num)\n",
    "\n",
    "  squares.sort()\n",
    "\n",
    "  return squares\n",
    "\n",
    "\n",
    "if __name__ == \"__main__\":\n",
    "  nums = [-4, -1, 0, 3, 10]\n",
    "\n",
    "  squares = squares_of_sorted_array(nums)\n",
    "\n",
    "  print(squares)\n"
   ]
  },
  {
   "cell_type": "code",
   "execution_count": 14,
   "id": "da202d2c",
   "metadata": {},
   "outputs": [],
   "source": [
    "#7\n",
    "from typing import List\n",
    "\n",
    "def maxCount(m: int, n: int, ops: List[List[int]]) -> int:\n",
    "    max_val = m\n",
    "    for op in ops:\n",
    "        max_val = min(max_val, op[0], op[1])\n",
    "    return max_val * max_val\n"
   ]
  },
  {
   "cell_type": "code",
   "execution_count": 15,
   "id": "16b93a61",
   "metadata": {},
   "outputs": [],
   "source": [
    "#8\n",
    "def rearrangeArray(nums: List[int], n: int) -> List[int]:\n",
    "    result = []\n",
    "    for i in range(n):\n",
    "        result.append(nums[i])\n",
    "        result.append(nums[i + n])\n",
    "    return result\n"
   ]
  },
  {
   "cell_type": "code",
   "execution_count": null,
   "id": "6e006de2",
   "metadata": {},
   "outputs": [],
   "source": []
  }
 ],
 "metadata": {
  "kernelspec": {
   "display_name": "Python 3 (ipykernel)",
   "language": "python",
   "name": "python3"
  },
  "language_info": {
   "codemirror_mode": {
    "name": "ipython",
    "version": 3
   },
   "file_extension": ".py",
   "mimetype": "text/x-python",
   "name": "python",
   "nbconvert_exporter": "python",
   "pygments_lexer": "ipython3",
   "version": "3.10.9"
  }
 },
 "nbformat": 4,
 "nbformat_minor": 5
}
