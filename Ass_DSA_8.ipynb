{
 "cells": [
  {
   "cell_type": "code",
   "execution_count": 1,
   "id": "4f4c35a4",
   "metadata": {},
   "outputs": [
    {
     "name": "stdout",
     "output_type": "stream",
     "text": [
      "231\n"
     ]
    }
   ],
   "source": [
    "#1\n",
    "def minimumDeleteSum(s1: str, s2: str) -> int:\n",
    "    m, n = len(s1), len(s2)\n",
    "    dp = [[0] * (n+1) for _ in range(m+1)]\n",
    "\n",
    "    for i in range(1, m+1):\n",
    "        dp[i][0] = dp[i-1][0] + ord(s1[i-1])\n",
    "\n",
    "    for j in range(1, n+1):\n",
    "        dp[0][j] = dp[0][j-1] + ord(s2[j-1])\n",
    "\n",
    "    for i in range(1, m+1):\n",
    "        for j in range(1, n+1):\n",
    "            if s1[i-1] == s2[j-1]:\n",
    "                dp[i][j] = dp[i-1][j-1]\n",
    "            else:\n",
    "                dp[i][j] = min(dp[i-1][j] + ord(s1[i-1]), dp[i][j-1] + ord(s2[j-1]))\n",
    "\n",
    "    return dp[m][n]\n",
    "s1 = \"sea\"\n",
    "s2 = \"eat\"\n",
    "result = minimumDeleteSum(s1, s2)\n",
    "print(result)\n"
   ]
  },
  {
   "cell_type": "code",
   "execution_count": 2,
   "id": "9e3cf6ff",
   "metadata": {},
   "outputs": [
    {
     "name": "stdout",
     "output_type": "stream",
     "text": [
      "True\n"
     ]
    }
   ],
   "source": [
    "#2\n",
    "def isValid(s):\n",
    "  \"\"\"\n",
    "  Returns true if s is a valid string.\n",
    "\n",
    "  Args:\n",
    "    s: The string to be validated.\n",
    "\n",
    "  Returns:\n",
    "    True if s is valid, False otherwise.\n",
    "  \"\"\"\n",
    "\n",
    "  stack = []\n",
    "  for char in s:\n",
    "    if char == '(':\n",
    "      stack.append(char)\n",
    "    elif char == ')':\n",
    "      if not stack:\n",
    "        return False\n",
    "      else:\n",
    "        stack.pop()\n",
    "    elif char == '*':\n",
    "      if not stack:\n",
    "        stack.append('*')\n",
    "      elif stack[-1] == '(':\n",
    "        stack.append('*')\n",
    "      elif stack[-1] == '*':\n",
    "        stack.pop()\n",
    "      else:\n",
    "        return False\n",
    "\n",
    "  return not stack\n",
    "\n",
    "\n",
    "if __name__ == \"__main__\":\n",
    "  s = \"()\"\n",
    "\n",
    "  is_valid = isValid(s)\n",
    "\n",
    "  print(is_valid)\n"
   ]
  },
  {
   "cell_type": "code",
   "execution_count": 3,
   "id": "44ee309c",
   "metadata": {},
   "outputs": [
    {
     "name": "stdout",
     "output_type": "stream",
     "text": [
      "2\n"
     ]
    }
   ],
   "source": [
    "#3\n",
    "def minDistance(word1: str, word2: str) -> int:\n",
    "    m, n = len(word1), len(word2)\n",
    "    dp = [[0] * (n+1) for _ in range(m+1)]\n",
    "\n",
    "    for i in range(1, m+1):\n",
    "        dp[i][0] = i\n",
    "\n",
    "    for j in range(1, n+1):\n",
    "        dp[0][j] = j\n",
    "\n",
    "    for i in range(1, m+1):\n",
    "        for j in range(1, n+1):\n",
    "            if word1[i-1] == word2[j-1]:\n",
    "                dp[i][j] = dp[i-1][j-1]\n",
    "            else:\n",
    "                dp[i][j] = min(dp[i-1][j] + 1, dp[i][j-1] + 1)\n",
    "\n",
    "    return dp[m][n]\n",
    "word1 = \"sea\"\n",
    "word2 = \"eat\"\n",
    "result = minDistance(word1, word2)\n",
    "print(result)\n"
   ]
  },
  {
   "cell_type": "code",
   "execution_count": 4,
   "id": "6f024880",
   "metadata": {},
   "outputs": [],
   "source": [
    "#4\n",
    "def construct_binary_tree(string):\n",
    "  \"\"\"\n",
    "  Constructs a binary tree from a string.\n",
    "\n",
    "  Args:\n",
    "    string: The string representation of the binary tree.\n",
    "\n",
    "  Returns:\n",
    "    The root node of the binary tree.\n",
    "  \"\"\"\n",
    "\n",
    "  if not string:\n",
    "    return None\n",
    "\n",
    "  root_value = int(string[0])\n",
    "  left_string = \"\"\n",
    "  right_string = \"\"\n",
    "  i = 1\n",
    "  while i < len(string):\n",
    "    if string[i] == \"(\":\n",
    "      left_string += string[i]\n",
    "    elif string[i] == \")\":\n",
    "      right_string += string[i]\n",
    "      break\n",
    "    else:\n",
    "      i += 1\n",
    "\n",
    "  left_child = construct_binary_tree(left_string)\n",
    "  right_child = construct_binary_tree(right_string)\n",
    "\n",
    "  return Node(root_value, left_child, right_child)\n",
    "\n",
    "\n",
    "class Node:\n",
    "  def __init__(self, value, left=None, right=None):\n",
    "    self.value = value\n",
    "    self.left = left\n",
    "    self.right = right\n"
   ]
  },
  {
   "cell_type": "code",
   "execution_count": 5,
   "id": "e20b01c5",
   "metadata": {},
   "outputs": [
    {
     "name": "stdout",
     "output_type": "stream",
     "text": [
      "['a2']\n"
     ]
    }
   ],
   "source": [
    "#5\n",
    "def compress_string(chars):\n",
    "  \"\"\"\n",
    "  Compresses a string.\n",
    "\n",
    "  Args:\n",
    "    chars: The array of characters to be compressed.\n",
    "\n",
    "  Returns:\n",
    "    The new length of the array.\n",
    "  \"\"\"\n",
    "\n",
    "  i = 0\n",
    "  count = 1\n",
    "  j = 1\n",
    "  while j < len(chars):\n",
    "    if chars[i] == chars[j]:\n",
    "      count += 1\n",
    "    else:\n",
    "      if count == 1:\n",
    "        chars[i] = chars[i]\n",
    "      else:\n",
    "        chars[i] = chars[i] + str(count)\n",
    "        i += 1\n",
    "      count = 1\n",
    "    j += 1\n",
    "\n",
    "  if count == 1:\n",
    "    chars[i] = chars[i]\n",
    "  else:\n",
    "    chars[i] = chars[i] + str(count)\n",
    "    i += 1\n",
    "\n",
    "  return i\n",
    "\n",
    "\n",
    "if __name__ == \"__main__\":\n",
    "  chars = [\"a\", \"a\", \"b\", \"b\", \"c\", \"c\", \"c\"]\n",
    "\n",
    "  new_length = compress_string(chars)\n",
    "\n",
    "  print(chars[:new_length])\n"
   ]
  },
  {
   "cell_type": "code",
   "execution_count": 9,
   "id": "dcbcfdb3",
   "metadata": {},
   "outputs": [],
   "source": [
    "#6\n",
    "from collections import Counter\n",
    "from typing import List\n",
    "\n",
    "\n",
    "def findAnagrams(s: str, p: str) -> List[int]:\n",
    "    result = []\n",
    "    pattern_freq = Counter(p)\n",
    "    left = right = 0\n",
    "    count = len(p)\n",
    "\n",
    "    while right < len(s):\n",
    "        if s[right] in pattern_freq and pattern_freq[s[right]] > 0:\n",
    "            pattern_freq[s[right]] -= 1\n",
    "            count -= 1\n",
    "\n",
    "        if count == 0:\n",
    "            result.append(left)\n",
    "\n",
    "        if right - left + 1 == len(p):\n",
    "            if s[left] in pattern_freq and pattern_freq[s[left]] >= 0:\n",
    "                pattern_freq[s[left]] += 1\n",
    "                count += 1\n",
    "            left += 1\n",
    "\n",
    "        right += 1\n",
    "\n",
    "    return result\n"
   ]
  },
  {
   "cell_type": "code",
   "execution_count": 10,
   "id": "79c5b17a",
   "metadata": {},
   "outputs": [
    {
     "name": "stdout",
     "output_type": "stream",
     "text": [
      "aaabcbc\n"
     ]
    }
   ],
   "source": [
    "#7\n",
    "def decodeString(s: str) -> str:\n",
    "    stack = []\n",
    "    for char in s:\n",
    "        if char != ']':\n",
    "            stack.append(char)\n",
    "        else:\n",
    "            encoded_string = \"\"\n",
    "            while stack[-1] != '[':\n",
    "                encoded_string = stack.pop() + encoded_string\n",
    "            stack.pop()  # Remove '['\n",
    "\n",
    "            repetition_count = \"\"\n",
    "            while stack and stack[-1].isdigit():\n",
    "                repetition_count = stack.pop() + repetition_count\n",
    "\n",
    "            decoded_string = encoded_string * int(repetition_count)\n",
    "            stack.append(decoded_string)\n",
    "\n",
    "    return ''.join(stack)\n",
    "\n",
    "s = \"3[a]2[bc]\"\n",
    "decoded_string = decodeString(s)\n",
    "print(decoded_string)\n"
   ]
  },
  {
   "cell_type": "code",
   "execution_count": null,
   "id": "4269616d",
   "metadata": {},
   "outputs": [],
   "source": [
    "#8\n",
    "s = \"3[a]2[bc]\"\n",
    "decoded_string = decode_string(s)\n",
    "print(decoded_string)\n"
   ]
  },
  {
   "cell_type": "code",
   "execution_count": null,
   "id": "5b7a435b",
   "metadata": {},
   "outputs": [],
   "source": []
  }
 ],
 "metadata": {
  "kernelspec": {
   "display_name": "Python 3 (ipykernel)",
   "language": "python",
   "name": "python3"
  },
  "language_info": {
   "codemirror_mode": {
    "name": "ipython",
    "version": 3
   },
   "file_extension": ".py",
   "mimetype": "text/x-python",
   "name": "python",
   "nbconvert_exporter": "python",
   "pygments_lexer": "ipython3",
   "version": "3.10.9"
  }
 },
 "nbformat": 4,
 "nbformat_minor": 5
}
