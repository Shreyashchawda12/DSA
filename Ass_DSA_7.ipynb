{
 "cells": [
  {
   "cell_type": "code",
   "execution_count": 33,
   "id": "1a2d7450",
   "metadata": {},
   "outputs": [
    {
     "name": "stdout",
     "output_type": "stream",
     "text": [
      "True\n"
     ]
    }
   ],
   "source": [
    "#1\n",
    "def isIsomorphic(s: str, t: str) -> bool:\n",
    "    if len(s) != len(t):\n",
    "        return False\n",
    "\n",
    "    s_to_t = {}\n",
    "    t_to_s = {}\n",
    "\n",
    "    for c, d in zip(s, t):\n",
    "        if c not in s_to_t and d not in t_to_s:\n",
    "            s_to_t[c] = d\n",
    "            t_to_s[d] = c\n",
    "        elif s_to_t.get(c) != d or t_to_s.get(d) != c:\n",
    "            return False\n",
    "\n",
    "    return True\n",
    "s = \"egg\"\n",
    "t = \"add\"\n",
    "result = isIsomorphic(s, t)\n",
    "print(result)\n"
   ]
  },
  {
   "cell_type": "code",
   "execution_count": 34,
   "id": "47e0c969",
   "metadata": {},
   "outputs": [
    {
     "name": "stdout",
     "output_type": "stream",
     "text": [
      "True\n"
     ]
    }
   ],
   "source": [
    "#2\n",
    "def is_strobogrammatic(num):\n",
    "  \"\"\"\n",
    "  Returns true if num is a strobogrammatic number.\n",
    "\n",
    "  Args:\n",
    "    num: The string representing the number.\n",
    "\n",
    "  Returns:\n",
    "    True if num is a strobogrammatic number, False otherwise.\n",
    "  \"\"\"\n",
    "\n",
    "  strobogrammatic_pairs = {\"0\": \"0\", \"1\": \"1\", \"6\": \"9\", \"8\": \"8\", \"9\": \"6\"}\n",
    "\n",
    "  for i in range(len(num) // 2):\n",
    "    if num[i] not in strobogrammatic_pairs or strobogrammatic_pairs[num[i]] != num[-i - 1]:\n",
    "      return False\n",
    "\n",
    "  return True\n",
    "\n",
    "\n",
    "if __name__ == \"__main__\":\n",
    "  num = \"69\"\n",
    "\n",
    "  is_strobogrammatic = is_strobogrammatic(num)\n",
    "\n",
    "  print(is_strobogrammatic)\n"
   ]
  },
  {
   "cell_type": "code",
   "execution_count": 35,
   "id": "55e60c6f",
   "metadata": {},
   "outputs": [
    {
     "name": "stdout",
     "output_type": "stream",
     "text": [
      "True\n"
     ]
    }
   ],
   "source": [
    "#3\n",
    "def is_strobogrammatic(num):\n",
    "    strobogrammatic_pairs = {\"0\": \"0\", \"1\": \"1\", \"6\": \"9\", \"8\": \"8\", \"9\": \"6\"}\n",
    "\n",
    "    for i in range(len(num) // 2):\n",
    "        if num[i] not in strobogrammatic_pairs or strobogrammatic_pairs[num[i]] != num[-i - 1]:\n",
    "            return False\n",
    "\n",
    "    return True\n",
    "\n",
    "\n",
    "if __name__ == \"__main__\":\n",
    "    num = \"69\"\n",
    "\n",
    "    is_strobogrammatic = is_strobogrammatic(num)\n",
    "\n",
    "    print(is_strobogrammatic)\n"
   ]
  },
  {
   "cell_type": "code",
   "execution_count": 36,
   "id": "231c3873",
   "metadata": {},
   "outputs": [
    {
     "name": "stdout",
     "output_type": "stream",
     "text": [
      "s'teL ekat edoCteeL tsetnoc\n"
     ]
    }
   ],
   "source": [
    "#4\n",
    "def reverse_words(s):\n",
    "  \"\"\"\n",
    "  Reverses the order of characters in each word within a sentence while still preserving whitespace and initial word order.\n",
    "\n",
    "  Args:\n",
    "    s: The string to be reversed.\n",
    "\n",
    "  Returns:\n",
    "    The reversed string.\n",
    "  \"\"\"\n",
    "\n",
    "  words = s.split()\n",
    "  reversed_words = []\n",
    "  for word in words:\n",
    "    reversed_word = \"\"\n",
    "    for i in range(len(word) - 1, -1, -1):\n",
    "      reversed_word += word[i]\n",
    "    reversed_words.append(reversed_word)\n",
    "\n",
    "  reversed_sentence = \" \".join(reversed_words)\n",
    "\n",
    "  return reversed_sentence\n",
    "\n",
    "\n",
    "if __name__ == \"__main__\":\n",
    "  s = \"Let's take LeetCode contest\"\n",
    "\n",
    "  reversed_sentence = reverse_words(s)\n",
    "\n",
    "  print(reversed_sentence)\n"
   ]
  },
  {
   "cell_type": "code",
   "execution_count": 37,
   "id": "b942ee20",
   "metadata": {},
   "outputs": [
    {
     "name": "stdout",
     "output_type": "stream",
     "text": [
      "bacdfeg\n"
     ]
    }
   ],
   "source": [
    "#5\n",
    "def reverseStr(s: str, k: int) -> str:\n",
    "    s = list(s)\n",
    "    n = len(s)\n",
    "\n",
    "    for i in range(0, n, 2 * k):\n",
    "        s[i:i + k] = reversed(s[i:i + k])\n",
    "\n",
    "    return ''.join(s)\n",
    "s = \"abcdefg\"\n",
    "k = 2\n",
    "result = reverseStr(s, k)\n",
    "print(result)\n"
   ]
  },
  {
   "cell_type": "code",
   "execution_count": 38,
   "id": "932cd97e",
   "metadata": {},
   "outputs": [
    {
     "name": "stdout",
     "output_type": "stream",
     "text": [
      "badcfeg\n"
     ]
    }
   ],
   "source": [
    "#6\n",
    "def reverse_every_k_characters(s, k):\n",
    "  \"\"\"\n",
    "  Reverses the first k characters for every 2k characters counting from the start of the string.\n",
    "\n",
    "  Args:\n",
    "    s: The string to be reversed.\n",
    "    k: The number of characters to be reversed.\n",
    "\n",
    "  Returns:\n",
    "    The reversed string.\n",
    "  \"\"\"\n",
    "\n",
    "  reversed_string = \"\"\n",
    "  i = 0\n",
    "  while i < len(s):\n",
    "    if i + k <= len(s):\n",
    "      reversed_string += s[i:i + k][::-1]\n",
    "      i += k\n",
    "    else:\n",
    "      reversed_string += s[i:][::-1]\n",
    "      break\n",
    "\n",
    "  return reversed_string\n",
    "\n",
    "\n",
    "if __name__ == \"__main__\":\n",
    "  s = \"abcdefg\"\n",
    "  k = 2\n",
    "\n",
    "  reversed_string = reverse_every_k_characters(s, k)\n",
    "\n",
    "  print(reversed_string)\n"
   ]
  },
  {
   "cell_type": "code",
   "execution_count": 39,
   "id": "25c8b9a4",
   "metadata": {},
   "outputs": [
    {
     "name": "stdout",
     "output_type": "stream",
     "text": [
      "True\n"
     ]
    }
   ],
   "source": [
    "#7\n",
    "def backspaceCompare(s: str, t: str) -> bool:\n",
    "    def processString(string: str) -> str:\n",
    "        stack = []\n",
    "        for ch in string:\n",
    "            if ch != '#':\n",
    "                stack.append(ch)\n",
    "            elif stack:\n",
    "                stack.pop()\n",
    "        return ''.join(stack)\n",
    "\n",
    "    return processString(s) == processString(t)\n",
    "s = \"ab#c\"\n",
    "t = \"ad#c\"\n",
    "result = backspaceCompare(s, t)\n",
    "print(result)\n"
   ]
  },
  {
   "cell_type": "code",
   "execution_count": 40,
   "id": "acd47b56",
   "metadata": {},
   "outputs": [
    {
     "name": "stdout",
     "output_type": "stream",
     "text": [
      "True\n"
     ]
    }
   ],
   "source": [
    "#8\n",
    "def checkStraightLine(coordinates):\n",
    "    if len(coordinates) <= 2:\n",
    "        return True\n",
    "\n",
    "    x1, y1 = coordinates[0]\n",
    "    x2, y2 = coordinates[1]\n",
    "    reference_slope = (y2 - y1) / (x2 - x1)\n",
    "\n",
    "    for i in range(2, len(coordinates)):\n",
    "        xi, yi = coordinates[i]\n",
    "        if (yi - y1) / (xi - x1) != reference_slope:\n",
    "            return False\n",
    "\n",
    "    return True\n",
    "coordinates = [[1,2],[2,3],[3,4],[4,5],[5,6],[6,7]]\n",
    "result = checkStraightLine(coordinates)\n",
    "print(result)\n"
   ]
  },
  {
   "cell_type": "code",
   "execution_count": null,
   "id": "1ac0ab4a",
   "metadata": {},
   "outputs": [],
   "source": []
  }
 ],
 "metadata": {
  "kernelspec": {
   "display_name": "Python 3 (ipykernel)",
   "language": "python",
   "name": "python3"
  },
  "language_info": {
   "codemirror_mode": {
    "name": "ipython",
    "version": 3
   },
   "file_extension": ".py",
   "mimetype": "text/x-python",
   "name": "python",
   "nbconvert_exporter": "python",
   "pygments_lexer": "ipython3",
   "version": "3.10.9"
  }
 },
 "nbformat": 4,
 "nbformat_minor": 5
}
