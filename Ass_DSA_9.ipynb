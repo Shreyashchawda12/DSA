{
 "cells": [
  {
   "cell_type": "code",
   "execution_count": 11,
   "id": "1ff4768d",
   "metadata": {},
   "outputs": [],
   "source": [
    "#1\n",
    "def isPowerOfTwo(n: int) -> bool:\n",
    "    if n <= 0:\n",
    "        return False\n",
    "    return n & (n - 1) == 0\n"
   ]
  },
  {
   "cell_type": "code",
   "execution_count": 12,
   "id": "8a0313ed",
   "metadata": {},
   "outputs": [],
   "source": [
    "#2\n",
    "def sumOfNaturalNumbers(n: int) -> int:\n",
    "    return (n * (n + 1)) // 2\n"
   ]
  },
  {
   "cell_type": "code",
   "execution_count": 13,
   "id": "d1b8e349",
   "metadata": {},
   "outputs": [],
   "source": [
    "#3\n",
    "def factorial(n: int) -> int:\n",
    "    if n == 0 or n == 1:\n",
    "        return 1\n",
    "    return n * factorial(n - 1)\n"
   ]
  },
  {
   "cell_type": "code",
   "execution_count": 14,
   "id": "e45cac29",
   "metadata": {},
   "outputs": [],
   "source": [
    "#4\n",
    "def exponentiate(N: int, P: int) -> int:\n",
    "    if P == 0:\n",
    "        return 1\n",
    "    if P % 2 == 0:\n",
    "        half = exponentiate(N, P // 2)\n",
    "        return half * half\n",
    "    else:\n",
    "        half = exponentiate(N, (P - 1) // 2)\n",
    "        return N * half * half\n"
   ]
  },
  {
   "cell_type": "code",
   "execution_count": 15,
   "id": "6bdda305",
   "metadata": {},
   "outputs": [],
   "source": [
    "#5\n",
    "def findMax(arr: List[int]) -> int:\n",
    "    if len(arr) == 1:\n",
    "        return arr[0]\n",
    "    else:\n",
    "        return max(arr[0], findMax(arr[1:]))\n"
   ]
  },
  {
   "cell_type": "code",
   "execution_count": 16,
   "id": "899cffc7",
   "metadata": {},
   "outputs": [],
   "source": [
    "#6\n",
    "def nthTermAP(a: int, d: int, N: int) -> int:\n",
    "    return a + (N - 1) * d\n"
   ]
  },
  {
   "cell_type": "code",
   "execution_count": 17,
   "id": "db0967b0",
   "metadata": {},
   "outputs": [],
   "source": [
    "#7\n",
    "from itertools import permutations\n",
    "\n",
    "def permuteString(S: str) -> List[str]:\n",
    "    return list(''.join(p) for p in permutations(S))\n"
   ]
  },
  {
   "cell_type": "code",
   "execution_count": null,
   "id": "cdc8a800",
   "metadata": {},
   "outputs": [],
   "source": [
    "#8\n",
    "from functools import reduce\n",
    "from operator import mul\n",
    "\n",
    "def productOfArrayElements(arr: List[int]) -> int:\n",
    "    return reduce(mul, arr)\n"
   ]
  }
 ],
 "metadata": {
  "kernelspec": {
   "display_name": "Python 3 (ipykernel)",
   "language": "python",
   "name": "python3"
  },
  "language_info": {
   "codemirror_mode": {
    "name": "ipython",
    "version": 3
   },
   "file_extension": ".py",
   "mimetype": "text/x-python",
   "name": "python",
   "nbconvert_exporter": "python",
   "pygments_lexer": "ipython3",
   "version": "3.10.9"
  }
 },
 "nbformat": 4,
 "nbformat_minor": 5
}
