{
 "cells": [
  {
   "cell_type": "code",
   "execution_count": 18,
   "id": "5837a86d",
   "metadata": {},
   "outputs": [],
   "source": [
    "#1\n",
    "def isPowerOfThree(n):\n",
    "    if n <= 0:\n",
    "        return False\n",
    "    while n % 3 == 0:\n",
    "        n /= 3\n",
    "    return n == 1\n"
   ]
  },
  {
   "cell_type": "code",
   "execution_count": null,
   "id": "da57f7d3",
   "metadata": {},
   "outputs": [],
   "source": [
    "#2\n",
    "def lastRemaining(n):\n",
    "    left_to_right = True\n",
    "    remaining = n\n",
    "    step = 1\n",
    "    head = 1\n",
    "    while remaining > 1:\n",
    "        if left_to_right or remaining % 2 == 1:\n",
    "            head += step\n",
    "        step *= 2\n",
    "        remaining //= 2\n",
    "        left_to_right = not left_to_right\n",
    "    return head\n"
   ]
  },
  {
   "cell_type": "code",
   "execution_count": null,
   "id": "06a87932",
   "metadata": {},
   "outputs": [],
   "source": [
    "#3\n",
    "def generateSubsets(s):\n",
    "    def backtrack(curr, index):\n",
    "        subsets.append(curr)\n",
    "        for i in range(index, len(s)):\n",
    "            backtrack(curr + s[i], i + 1)\n",
    "\n",
    "    subsets = []\n",
    "    backtrack(\"\", 0)\n",
    "    return subsets\n"
   ]
  },
  {
   "cell_type": "code",
   "execution_count": 19,
   "id": "50deac51",
   "metadata": {},
   "outputs": [],
   "source": [
    "#4\n",
    "def calculateLength(s):\n",
    "    if s == \"\":\n",
    "        return 0\n",
    "    return 1 + calculateLength(s[1:])\n"
   ]
  },
  {
   "cell_type": "code",
   "execution_count": null,
   "id": "8d823976",
   "metadata": {},
   "outputs": [],
   "source": [
    "#5\n",
    "def countContiguousSubstrings(s):\n",
    "    count = 0\n",
    "    n = len(s)\n",
    "    for i in range(n):\n",
    "        for j in range(i, n):\n",
    "            if s[i] == s[j]:\n",
    "                count += 1\n",
    "    return count\n"
   ]
  },
  {
   "cell_type": "code",
   "execution_count": null,
   "id": "9d67ad83",
   "metadata": {},
   "outputs": [],
   "source": [
    "#6\n",
    "def towerOfHanoi(n, source, auxiliary, destination):\n",
    "    if n == 1:\n",
    "        print(f\"Move disk 1 from rod {source} to rod {destination}\")\n",
    "        return 1\n",
    "    moves = 0\n",
    "    moves += towerOfHanoi(n - 1, source, destination, auxiliary)\n",
    "    print(f\"Move disk {n} from rod {source} to rod {destination}\")\n",
    "    moves += 1\n",
    "    moves += towerOfHanoi(n - 1, auxiliary, source, destination)\n",
    "    return moves\n"
   ]
  },
  {
   "cell_type": "code",
   "execution_count": null,
   "id": "114d1d59",
   "metadata": {},
   "outputs": [],
   "source": [
    "#7\n",
    "def permutations(s):\n",
    "    def backtrack(curr, remaining):\n",
    "        if not remaining:\n",
    "            permutations.append(curr)\n",
    "            return\n",
    "        for i in range(len(remaining)):\n",
    "            backtrack(curr + remaining[i], remaining[:i] + remaining[i+1:])\n",
    "    \n",
    "    permutations = []\n",
    "    backtrack(\"\", s)\n",
    "    return permutations\n"
   ]
  },
  {
   "cell_type": "code",
   "execution_count": null,
   "id": "1cb30eaa",
   "metadata": {},
   "outputs": [],
   "source": [
    "#8\n",
    "def countConsonants(s):\n",
    "    consonants = set(\"bcdfghjklmnpqrstvwxyzBCDFGHJKLMNPQRSTVWXYZ\")\n",
    "    count = 0\n",
    "    for char in s:\n",
    "        if char in consonants:\n",
    "            count += 1\n",
    "    return count\n"
   ]
  },
  {
   "cell_type": "code",
   "execution_count": null,
   "id": "6663a5ef",
   "metadata": {},
   "outputs": [],
   "source": []
  }
 ],
 "metadata": {
  "kernelspec": {
   "display_name": "Python 3 (ipykernel)",
   "language": "python",
   "name": "python3"
  },
  "language_info": {
   "codemirror_mode": {
    "name": "ipython",
    "version": 3
   },
   "file_extension": ".py",
   "mimetype": "text/x-python",
   "name": "python",
   "nbconvert_exporter": "python",
   "pygments_lexer": "ipython3",
   "version": "3.10.9"
  }
 },
 "nbformat": 4,
 "nbformat_minor": 5
}
